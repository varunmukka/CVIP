{
  "nbformat": 4,
  "nbformat_minor": 0,
  "metadata": {
    "colab": {
      "provenance": [],
      "authorship_tag": "ABX9TyN4X8Cb2qGb8/bOmNglCuAg",
      "include_colab_link": true
    },
    "kernelspec": {
      "name": "python3",
      "display_name": "Python 3"
    },
    "language_info": {
      "name": "python"
    }
  },
  "cells": [
    {
      "cell_type": "markdown",
      "metadata": {
        "id": "view-in-github",
        "colab_type": "text"
      },
      "source": [
        "<a href=\"https://colab.research.google.com/github/varunmukka/CVIP/blob/main/Typing_Speed_Tester_.ipynb\" target=\"_parent\"><img src=\"https://colab.research.google.com/assets/colab-badge.svg\" alt=\"Open In Colab\"/></a>"
      ]
    },
    {
      "cell_type": "code",
      "execution_count": 4,
      "metadata": {
        "colab": {
          "base_uri": "https://localhost:8080/"
        },
        "id": "8PIJguH27-ev",
        "outputId": "954b166e-dda1-4ccb-95e3-916a4e7d2d0c"
      },
      "outputs": [
        {
          "output_type": "stream",
          "name": "stdout",
          "text": [
            "Welcome to the Typing Speed Test!\n",
            "Press Enter to start the test...\n",
            "\n",
            "Type the following passage:\n",
            "This is a typing speed test. Try to type this passage as quickly and accurately as possible. When you're ready, press Enter to start the timer, and then type the entire passage. Press Enter again when you're done.\n",
            "\n",
            "Press Enter to begin typing...\n",
            "varun is a python developer\n",
            "\n",
            "Your typing speed is: 149.96 WPM\n"
          ]
        }
      ],
      "source": [
        "import time\n",
        "\n",
        "def calculate_typing_speed(start_time, end_time, passage):\n",
        "    total_time = end_time - start_time\n",
        "    words = passage.split()\n",
        "    word_count = len(words)\n",
        "    wpm = (word_count / total_time) * 60\n",
        "    return wpm\n",
        "\n",
        "def main():\n",
        "    passage = \"This is a typing speed test. Try to type this passage as quickly and accurately as possible. When you're ready, press Enter to start the timer, and then type the entire passage. Press Enter again when you're done.\"\n",
        "    print(\"Welcome to the Typing Speed Test!\")\n",
        "    input(\"Press Enter to start the test...\")\n",
        "\n",
        "    print(\"\\nType the following passage:\")\n",
        "    print(passage)\n",
        "\n",
        "    input(\"\\nPress Enter to begin typing...\")\n",
        "    start_time = time.time()\n",
        "\n",
        "    typed_text = input()\n",
        "\n",
        "    end_time = time.time()\n",
        "\n",
        "    wpm = calculate_typing_speed(start_time, end_time, passage)\n",
        "\n",
        "    print(f\"\\nYour typing speed is: {wpm:.2f} WPM\")\n",
        "\n",
        "if __name__ == \"__main__\":\n",
        "    main()\n"
      ]
    },
    {
      "cell_type": "code",
      "source": [],
      "metadata": {
        "id": "8jsEScct8JNL"
      },
      "execution_count": null,
      "outputs": []
    }
  ]
}